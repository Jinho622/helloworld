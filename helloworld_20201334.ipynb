{
  "nbformat": 4,
  "nbformat_minor": 0,
  "metadata": {
    "colab": {
      "name": "helloworld_20201334.ipynb",
      "provenance": [],
      "authorship_tag": "ABX9TyPRy6O4rrgv8wrgxE9ZS5qC",
      "include_colab_link": true
    },
    "kernelspec": {
      "name": "python3",
      "display_name": "Python 3"
    }
  },
  "cells": [
    {
      "cell_type": "markdown",
      "metadata": {
        "id": "view-in-github",
        "colab_type": "text"
      },
      "source": [
        "<a href=\"https://colab.research.google.com/github/Jinho622/helloworld/blob/main/helloworld_20201334.ipynb\" target=\"_parent\"><img src=\"https://colab.research.google.com/assets/colab-badge.svg\" alt=\"Open In Colab\"/></a>"
      ]
    },
    {
      "cell_type": "code",
      "metadata": {
        "id": "urSphoN1XRKF",
        "outputId": "7b2e2481-6865-4bb0-a54d-3a7bdefefa25",
        "colab": {
          "base_uri": "https://localhost:8080/",
          "height": 34
        }
      },
      "source": [
        "print('helloworld', 20201334)"
      ],
      "execution_count": 1,
      "outputs": [
        {
          "output_type": "stream",
          "text": [
            "helloworld 20201334\n"
          ],
          "name": "stdout"
        }
      ]
    }
  ]
}